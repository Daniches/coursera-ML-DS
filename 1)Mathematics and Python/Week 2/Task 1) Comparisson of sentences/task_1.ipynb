{
 "cells": [
  {
   "cell_type": "markdown",
   "metadata": {},
   "source": [
    "# Task 1: Comparisson of sentences"
   ]
  },
  {
   "cell_type": "markdown",
   "metadata": {},
   "source": [
    "At first, we need to import data from file `sentences.txt` and parse it (don't forget to delete all empty strings)"
   ]
  },
  {
   "cell_type": "code",
   "execution_count": 1,
   "metadata": {},
   "outputs": [],
   "source": [
    "import re\n",
    "import numpy as np"
   ]
  },
  {
   "cell_type": "code",
   "execution_count": 2,
   "metadata": {},
   "outputs": [],
   "source": [
    "ifile = open('sentences.txt')\n",
    "data = []\n",
    "n = 0;\n",
    "for line in ifile:\n",
    "    data.append(list((val for val in re.split('[^a-z]', line.lower()) if val != '')))\n",
    "    n += 1;\n",
    "ifile.close()"
   ]
  },
  {
   "cell_type": "markdown",
   "metadata": {},
   "source": [
    "Then, we assign a number from 0 to (d-1) to each word in the sentences (_d_ - _number_ _of_ _all_ _words_ ). For that we use type `dict`:"
   ]
  },
  {
   "cell_type": "code",
   "execution_count": 3,
   "metadata": {},
   "outputs": [],
   "source": [
    "d = 0\n",
    "data_dic = {}\n",
    "\n",
    "for line in data:\n",
    "    for elem in line:\n",
    "        if data_dic.get(elem) == None:\n",
    "            data_dic[elem] = d;\n",
    "            d += 1"
   ]
  },
  {
   "cell_type": "markdown",
   "metadata": {},
   "source": [
    "Now we need to create new array with _n_ rows and _d_ columns. Number at _(i,j)_ position equals to number of j-th word in i-th sentense."
   ]
  },
  {
   "cell_type": "code",
   "execution_count": 4,
   "metadata": {},
   "outputs": [
    {
     "name": "stdout",
     "output_type": "stream",
     "text": [
      "22 254\n"
     ]
    }
   ],
   "source": [
    "print (n, d)"
   ]
  },
  {
   "cell_type": "code",
   "execution_count": 5,
   "metadata": {},
   "outputs": [
    {
     "name": "stdout",
     "output_type": "stream",
     "text": [
      "[[1. 1. 1. ... 0. 0. 0.]\n",
      " [0. 0. 1. ... 0. 0. 0.]\n",
      " [0. 0. 2. ... 0. 0. 0.]\n",
      " ...\n",
      " [0. 0. 0. ... 0. 0. 0.]\n",
      " [1. 0. 1. ... 0. 0. 0.]\n",
      " [0. 0. 1. ... 1. 1. 1.]]\n"
     ]
    }
   ],
   "source": [
    "data_word_counts = np.zeros((n,d))\n",
    "\n",
    "for i in range(n):\n",
    "    for elem in data[i]:\n",
    "        data_word_counts[i][data_dic.get(elem)] += 1;\n",
    "        \n",
    "print(data_word_counts)"
   ]
  },
  {
   "cell_type": "markdown",
   "metadata": {},
   "source": [
    "And now we will find distances between first and each other sentences using `scipy.spatial.distance.cosine`:"
   ]
  },
  {
   "cell_type": "code",
   "execution_count": 6,
   "metadata": {},
   "outputs": [],
   "source": [
    "from scipy.spatial.distance import cosine"
   ]
  },
  {
   "cell_type": "code",
   "execution_count": 7,
   "metadata": {
    "scrolled": true
   },
   "outputs": [
    {
     "name": "stdout",
     "output_type": "stream",
     "text": [
      "1) 0.9527544408738466\n",
      "2) 0.8644738145642124\n",
      "3) 0.8951715163278082\n",
      "4) 0.7770887149698589\n",
      "5) 0.9402385695332803\n",
      "6) 0.7327387580875756\n",
      "7) 0.9258750683338899\n",
      "8) 0.8842724875284311\n",
      "9) 0.9055088817476932\n",
      "10) 0.8328165362273942\n",
      "11) 0.8804771390665607\n",
      "12) 0.8396432548525454\n",
      "13) 0.8703592552895671\n",
      "14) 0.8740118423302576\n",
      "15) 0.9442721787424647\n",
      "16) 0.8406361854220809\n",
      "17) 0.956644501523794\n",
      "18) 0.9442721787424647\n",
      "19) 0.8885443574849294\n",
      "20) 0.8427572744917122\n",
      "21) 0.8250364469440588\n"
     ]
    }
   ],
   "source": [
    "for i in range (1,n):\n",
    "    print(i,') ', cosine(data_word_counts[0], data_word_counts[i]), sep = '')"
   ]
  },
  {
   "cell_type": "markdown",
   "metadata": {},
   "source": [
    "As we see, the closest sentences to the first are 6th and 4th. Let's put the answer in the file `'submission-1.txt'`"
   ]
  },
  {
   "cell_type": "code",
   "execution_count": 8,
   "metadata": {},
   "outputs": [],
   "source": [
    "ofile = open('submission-1.txt','w')\n",
    "ofile.write('6 4')\n",
    "ofile.close()"
   ]
  }
 ],
 "metadata": {
  "kernelspec": {
   "display_name": "Python 3",
   "language": "python",
   "name": "python3"
  },
  "language_info": {
   "codemirror_mode": {
    "name": "ipython",
    "version": 3
   },
   "file_extension": ".py",
   "mimetype": "text/x-python",
   "name": "python",
   "nbconvert_exporter": "python",
   "pygments_lexer": "ipython3",
   "version": "3.7.3"
  }
 },
 "nbformat": 4,
 "nbformat_minor": 2
}
